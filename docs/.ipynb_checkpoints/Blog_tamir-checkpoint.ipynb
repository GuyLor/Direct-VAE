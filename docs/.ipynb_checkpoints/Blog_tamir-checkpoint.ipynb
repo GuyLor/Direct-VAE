{
 "cells": [
  {
   "cell_type": "markdown",
   "metadata": {},
   "source": [
    "# Direct Optimization through Argmax  for Discrete Variational Auto-Encoder \n",
    "\n",
    "\n",
    "Variational auto-encoders (VAEs) are generative latent variable models where the approximate posterior is a (neural network based) parameterized distribution which is estimated jointly with the model parameters [1, 6, 7]. Maximization is performed via stochastic gradient ascent, provided that one can compute gradients with respect to both the model parameters and the approximate posterior parameters.\n",
    "\n",
    "Our goal is to minimize: \n",
    "\n",
    "$$ -\\log p_\\theta(x) \\le - \\mathbb{E}_{z \\sim q_\\phi(z|x)} \\log p_\\theta (x|z) + KL(q_\\phi(z | x) || p_\\theta(z)) $$\n",
    "\n",
    "\n",
    "$x \\sim \\mathbb{P}_{data} $  and $z$ is a discrete latent variable <br>\n",
    "\n",
    "We parameterize $ p_\\theta (x|z) = e^{f_\\theta (x,z)}$ and $ q_\\phi(z|x)=e^{h_\\phi (x,z)}$, where $f_\\theta (x,z), h_\\phi (x,z)$ are neural-networks with linear layers whose parameters are $\\theta, \\phi$ (decoder and encoder) respectively.\n",
    "\n",
    "\n",
    "#### How to optimize the above when $z$ is 1-dimenssional latent space (k discrete classes)?.\n",
    "\n",
    "When $z \\in \\{1,...,k\\}$ (where k is not too big) we can compute the gradient  $\\nabla_\\phi \\mathbb{E}_{z \\sim q_\\phi(z|x)} \\log p_\\theta(x|z) =  \\sum_{z=1}^{k} e^{h_\\phi(x,z)} \\nabla_\\phi h_\\phi(x,z)f_\\theta(x,z)$ without having to sample from the posterior. <font color=\"blue\">Without reparameterization, make experiment</font>\n",
    "\n",
    "#### What does the latent space look like?\n",
    "We will cover in this post three different designs of the latent space. Each one of them will affects "
   ]
  },
  {
   "cell_type": "markdown",
   "metadata": {},
   "source": [
    "\n",
    "1-dimenssional latent space | high-dimenssional latent space | structured latent space |\n",
    ":-------:|:--------:|:---------:|\n",
    "<img src=\"figs/1dim_dvae.png\" alt=\"Drawing\" style=\"width: 250px; height: 350px;\"/>| <img src=\"figs/high-dim_dvae.png\" alt=\"Drawing\" style=\"width: 250px;  height: 350px;\"/>|<img src=\"figs/structured_dvae.png\" alt=\"Drawing\" style=\"width: 250px;  height: 350px;\"/>|"
   ]
  },
  {
   "cell_type": "markdown",
   "metadata": {},
   "source": [
    "\n",
    "#### 1. Reparametrization of Gibbs distribution\n",
    "\n",
    "The reparametrization trick provides an appealing alternative to the score function estimator and recent work has shown its effectiveness for continuous latent spaces. In discrete case we can use the Gumbel-Max reparameterization trick:\n",
    "\n",
    "$$\\frac{e^{h(z)}}{\\sum_{\\hat z}e^{h(\\hat z)}} \\sim \\arg\\max_{\\hat z} \\{h(x,\\hat z)+\\gamma (\\hat z)\\}$$\n",
    "where $\\gamma \\sim Gumbel(0)$\n",
    "\n",
    "So now we can write:\n",
    "\n",
    "$$\\mathbb{E}_{z \\sim q_\\phi(z|x)} \\log p_\\theta (x|z) = \\mathbb{E}_{\\gamma} \\log p_\\theta (x|z_{opt})$$\n",
    "where $z_{opt} = \\arg\\max_{\\hat z} \\{h(x,\\hat z)+\\gamma (\\hat z)\\} $\n",
    "\n",
    "\n",
    "It means that we can sample from $q_\\phi(z|x)$ just by adding Gumbel noise and taking the argmax.\n",
    "#### 2. How to estimate the gradients w.r.t. the discrete encoder $\\nabla_\\phi \\mathbb{E}_{\\gamma} p_\\theta (x,z_{opt})$?\n",
    "\n",
    "\n",
    "\n",
    " \n",
    "In the discrete case, despite being able to perform reparametrization via the Gumbel-Max trick, the resulting mapping remains non-differentiable due to the presence of $\\arg\\max$ operations.\n",
    "Recently, Maddison et al. and Jang et al. [2,3] have used a relaxation of the reparametrized objective, replacing the $\\arg \\max$ operation with *softmax* operation. The proposed **Gumbel-Softmax** reformulation results in a smooth objective function, similar to the continuous latent variable case.\n",
    "\n",
    "We propose an alternative approach of taking the derivative without relaxation and differentiate through the argmax - **Gumbel-Max**. We apply the direct loss minimization technique [4,5] with injected Gumbel random variable to create a posterior over the label space enabling the application of this method to learning generative models.\n",
    "\n",
    "#### 3.How to optimize the above when $z$ is 1-dimenssional latent space (k discrete classes)?\n",
    "\n",
    "\n",
    "When $z \\in \\{1,...,k\\}$ (where k is not too big) we can compute the gradient  $\\nabla_\\phi \\sum_{i=1}^{k} e^{h_\\phi(x,z_i)}f_\\theta(x,z_i)$ without reparameterization. "
   ]
  },
  {
   "cell_type": "markdown",
   "metadata": {},
   "source": [
    "### Code\n",
    "\n",
    "Here is a PyTorch implementation of the three approaches: <font color=\"blue\"> define the unbiased</font> unbiased, *Direct Gumbel-Max* and *Gumbel-Softmax*\n"
   ]
  },
  {
   "cell_type": "code",
   "execution_count": 1,
   "metadata": {},
   "outputs": [],
   "source": [
    "import torch\n",
    "import torch.nn as nn\n",
    "import torch.nn.functional as F\n",
    "import torchvision.utils as utils_torch\n",
    "import blog_utils as utils\n"
   ]
  },
  {
   "cell_type": "code",
   "execution_count": 2,
   "metadata": {},
   "outputs": [],
   "source": [
    "# get data and set the size of the latent space\n",
    "batch_size=5\n",
    "K=20\n",
    "\n",
    "train_loader,test_loader=utils.get_data(batch_size, dataset = 'fashion-mnist')\n",
    "\n",
    "\n",
    "it = iter(test_loader)\n",
    "x,y=it.next()\n",
    "x_dim =x.view(batch_size,-1).size(-1)\n"
   ]
  },
  {
   "cell_type": "markdown",
   "metadata": {},
   "source": [
    "## Encoder-Decoder \n",
    "Here we define the basic encoder and decoder functions. The encoder takes $x$ (image in our case) as input and produces $k$ non-normalized $\\log$ probabilities. All three approaches will instantiate the same encoder and decoder while the differences are in the way we train them."
   ]
  },
  {
   "cell_type": "code",
   "execution_count": 3,
   "metadata": {},
   "outputs": [],
   "source": [
    "class Encoder(nn.Module):\n",
    "    def __init__(self, x_dim=784, K=10):\n",
    "        super(Encoder, self).__init__()\n",
    "        self.K = K\n",
    "        self.h = nn.Sequential(\n",
    "            nn.Linear(x_dim,300),\n",
    "            nn.ReLU(),\n",
    "            nn.Linear(300,K))\n",
    "\n",
    "    def forward(self, x):\n",
    "        return self.h(x) "
   ]
  },
  {
   "cell_type": "code",
   "execution_count": 4,
   "metadata": {},
   "outputs": [],
   "source": [
    "class Decoder(nn.Module):\n",
    "    def __init__(self, x_dim=784,K=10):\n",
    "        super(Decoder, self).__init__()       \n",
    "        self.f = nn.Sequential(\n",
    "            nn.Linear(K,300),\n",
    "            nn.ReLU(),\n",
    "            nn.Linear(300,x_dim))\n",
    "\n",
    "        self.K = K\n",
    "        \n",
    "    def forward(self, z):\n",
    "        out = self.f(z)\n",
    "        return out\n",
    "    "
   ]
  },
  {
   "cell_type": "markdown",
   "metadata": {},
   "source": [
    "##### Models\n",
    "Here we instantiate encoder, decoder and optimizer for each of the three appraoches. Note that GSM and unbiased are end-to-end methods, meaning that the parameters of the encoder and decoder are updated together using derivatives of the same loss function, while Gumbel-max optimizes the encoder and decoder seperatly."
   ]
  },
  {
   "cell_type": "code",
   "execution_count": 5,
   "metadata": {},
   "outputs": [],
   "source": [
    "\n",
    "encoder_direct = Encoder(x_dim=x_dim,K=K)\n",
    "decoder_direct = Decoder(x_dim=x_dim,K=K)\n",
    "optimizer_e = torch.optim.Adam(encoder_direct.parameters(), lr=0.001)\n",
    "optimizer_d = torch.optim.Adam(decoder_direct.parameters(), lr=0.001)\n",
    "\n",
    "encoder_gsm = Encoder(x_dim=x_dim,K=K)\n",
    "decoder_gsm = Decoder(x_dim=x_dim,K=K)\n",
    "optimizer_gsm = torch.optim.Adam(list(encoder_gsm.parameters())+list(decoder_gsm.parameters()), lr=0.001)\n",
    "\n",
    "encoder_unbiased = Encoder(x_dim=x_dim,K=K)\n",
    "decoder_unbiased = Decoder(x_dim=x_dim,K=K)\n",
    "optimizer_unbiased = torch.optim.Adam(list(encoder_unbiased.parameters())+list(decoder_unbiased.parameters()), lr=0.001)\n"
   ]
  },
  {
   "cell_type": "markdown",
   "metadata": {},
   "source": [
    "##### Unbiased gradient computation:\n",
    "In the unbiased (analytic) approach, one \n",
    "In order to compute the sum $\\nabla_\\phi \\sum_{i=1}^{k} e^{h_\\phi(x,z_i)}f_\\theta(x,z_i)$ we must enumerate over $(z_1,...,z_k)$ without using sampling and reparametrization."
   ]
  },
  {
   "cell_type": "code",
   "execution_count": 6,
   "metadata": {},
   "outputs": [],
   "source": [
    "def analytical_loss(q_h,ground_truth):     \n",
    "    \"\"\"Computes the decoder and loss function for each realization of z (batch-wise) \n",
    "     \n",
    "    args:\n",
    "        q_h: softmax probabilities of z \n",
    "        ground_truth: the data x (images)\n",
    "    returns:\n",
    "        $\\sum_{i=1}^{k} q_\\phi(z|x)*f_\\theta(x,z_i)$\"\"\"\n",
    "    \n",
    "    shape = q_h.size()\n",
    "    batch_size = shape[0]\n",
    "    K = shape[1]\n",
    "    z_hat = torch.zeros(batch_size,K,K)\n",
    "    z_hat[:] = torch.eye(K)\n",
    "    \n",
    "    new_batch = z_hat.view(batch_size*K,-1)\n",
    "    gt_batch = ground_truth.repeat_interleave(K,0)\n",
    "    out = decoder_unbiased(new_batch)    \n",
    "    f_theta = F.binary_cross_entropy_with_logits(out,gt_batch,reduction='none').sum(-1).view_as(q_h)    \n",
    "    return torch.sum(q_h*f_theta)\n",
    "\n",
    "def sample_onehot(h_x):    \n",
    "    \"\"\"Samples one-hot vector given logits h_x (encoder output) \n",
    "    This function is used only in test time\"\"\"    \n",
    "    q_h = F.softmax(h_x,-1)\n",
    "    m = torch.distributions.one_hot_categorical.OneHotCategorical(q_h)\n",
    "    one_hot = m.sample()\n",
    "    return one_hot,_\n",
    "\n",
    "def train_unbiased(train_loader):\n",
    "    \"\"\" Trains for one epoch over train_loader\"\"\"\n",
    "    elbo_sum=0    \n",
    "    for i, (x, _) in enumerate(train_loader):\n",
    "        x = x.view(x.size(0), -1).round()\n",
    "        \n",
    "        h_x = encoder_unbiased(x)        \n",
    "        q_h = F.softmax(h_x,-1)\n",
    "        decoder_loss  = analytical_loss(q_h,x)  \n",
    "        kl = utils.kl_multinomial(h_x) \n",
    "        loss=decoder_loss+kl\n",
    "        optimizer_unbiased.zero_grad() \n",
    "        loss.backward()\n",
    "        optimizer_unbiased.step()\n",
    "        \n",
    "        elbo = loss/x.size(0)\n",
    "        elbo_sum += elbo.detach().item()\n",
    "\n",
    "    elbo_train = elbo_sum/len(train_loader)\n",
    "    return elbo_train\n"
   ]
  },
  {
   "cell_type": "markdown",
   "metadata": {},
   "source": [
    "##### Direct Gumbel-Max gradient:\n",
    "Here we show an alternative estimation of the encoder gradients by using the *direct loss minimization* approach [4, 5]. The cited works prove that a (biased) gradient estimator of the $\\arg\\max$ operation can be obtained from the difference between two maximization operations, over the original and over a perturbed objective, respectively. We apply the proposed estimator to the $\\arg\\max$ operation obtained from applying the *Gumbel-Max trick*.\n",
    "\n",
    "$$\n",
    "\\begin{equation}\n",
    "\\nabla_\\phi E_{\\gamma} [f_\\theta(x, z_{opt})] =  \\lim_{\\epsilon \\rightarrow 0} \\frac{1}{\\epsilon} \\Big(E_{\\gamma} [\\nabla_\\phi h_{\\phi}(x, z_{direct}) - \\nabla_\\phi h_{\\phi}(x, z_{opt})]\\Big) \\label{eq:direct}\n",
    "\\end{equation}\n",
    "$$\n",
    "\n",
    "where \n",
    "\n",
    "$$z_{opt} \\triangleq \\arg \\max_{\\hat z \\in \\mathcal{Z}} \\{h_\\phi(x, \\hat z) + \\gamma(\\hat z)\\}$$\n",
    "\n",
    "$$z_{direct} \\triangleq \\arg \\max_{\\hat z \\in \\mathcal{Z}} \\{\\epsilon f_\\theta(x,\\hat z) + h_\\phi(x, \\hat z) + \\gamma(\\hat z)\\}$$\n",
    "\n",
    "\n",
    "The strategy is to create two 1-hot vectors, one for $z_{opt}$ and the other for $z_{direct}$, then to subtract them. The result is vecotr of the form $(0,1,0,0,-1,0)$. Note that if $z_{opt}=z_{direct}$ the result is $(0,0,0,0,0,0)$ and there are no gradients. $z_{opt}$ is obtained by the encoder forward pass and $z_{direct}$ by enumerating the decoder over $(z_1,...,z_k)$. \n",
    "\n"
   ]
  },
  {
   "cell_type": "code",
   "execution_count": 7,
   "metadata": {},
   "outputs": [],
   "source": [
    "def compute_encoder_gradients_sign(z_opt,h_gamma,ground_truth,epsilon=1.0):\n",
    "    \"\"\" This function computes z_direct and returns the diffrence between z_opt to z_direct:\n",
    "        z_direct = argmax_z{ h(x,z_i) + gumbel(z_i) - epsilon*loss(decoder(z_i),x) } for i={1,...,k}\n",
    "        \n",
    "        args:\n",
    "            z_opt: a discrete sample under the current encoder (1-hot vector)\n",
    "            h_gamma: h(x,z) + gumbel(z_i) in words, the encoder output plus random gumbel(0)\n",
    "            ground_truth: the images, in order to compute the loss\n",
    "            epsilon: hyper-parameter, usually between 0.1-1.0\n",
    "            \n",
    "        returns:\n",
    "            (z_opt - z_direct)/epsilon\"\"\"\n",
    "    shape = z_opt.size()\n",
    "    batch_size = shape[0]\n",
    "    K = shape[1]\n",
    "    z_hat = torch.zeros(batch_size,K,K)\n",
    "    z_hat[:] = torch.eye(K) # z_1,...,z_k (1-hot)\n",
    "    \n",
    "    new_batch = z_hat.view(batch_size*K,-1)\n",
    "    gt_batch = ground_truth.repeat_interleave(K,0)\n",
    "\n",
    "    out = decoder_direct(new_batch) \n",
    "    f_theta = F.binary_cross_entropy_with_logits(out,gt_batch,reduction='none').sum(-1)\n",
    "    \n",
    "    with torch.no_grad():\n",
    "        h_gamma = h_gamma - epsilon*f_theta.view(batch_size,K)\n",
    "\n",
    "    argmax = h_gamma.argmax(-1)\n",
    "    z_direct = F.one_hot(argmax,num_classes=K).float()\n",
    "\n",
    "    gradients_sign = z_opt - z_direct \n",
    "    gradients_sign = gradients_sign*(1.0/epsilon)\n",
    "    return gradients_sign     "
   ]
  },
  {
   "cell_type": "code",
   "execution_count": 8,
   "metadata": {},
   "outputs": [],
   "source": [
    "def gumbel_max(h_x):\n",
    "    \"\"\"This function samples Gumbel variable with mean h_x\n",
    "       args:\n",
    "           h_x: logits (encoder output)\n",
    "       returns:\n",
    "           z_opt: a discrete sample under the current encoder (1-hot vector)\n",
    "           h_x_gamma: logits pertubed by Gumbels\"\"\"           \n",
    "    h_x_gamma = utils.sample_gumbel(h_x)\n",
    "    K=h_x_gamma.size(-1)\n",
    "    argmax = h_x_gamma.argmax(-1)\n",
    "\n",
    "\n",
    "    z_opt = F.one_hot(argmax, num_classes=K).float()\n",
    "    return z_opt,h_x_gamma\n",
    "\n",
    "def train_direct_max(train_loader,share_gumbels=True):\n",
    "    \"\"\" Trains for one epoch over train_loader\"\"\"\n",
    "    elbo_sum=0    \n",
    "    for i, (x, _) in enumerate(train_loader):\n",
    "        x = x.view(x.size(0), -1).round()\n",
    "        batch_size = x.size(0)\n",
    "       \n",
    "        h_x = encoder_direct(x)\n",
    "        z_opt,h_gamma = gumbel_max(h_x)\n",
    "        \n",
    "        out = decoder_direct(z_opt)\n",
    "        kl = utils.kl_multinomial(h_x)\n",
    "        \n",
    "        optimizer_e.zero_grad()\n",
    "        optimizer_d.zero_grad()\n",
    "        \n",
    "        decoder_loss  = F.binary_cross_entropy_with_logits(out, x, reduction='none').sum()        \n",
    "        decoder_loss.backward()\n",
    "        \n",
    "        grad_sign = compute_encoder_gradients_sign(z_opt, h_gamma, x)\n",
    "        encoder_loss = torch.sum(grad_sign*h_x)\n",
    "        encoder_loss.backward()            \n",
    "\n",
    "        optimizer_d.step()\n",
    "        optimizer_e.step()\n",
    "\n",
    "        elbo = (decoder_loss+kl)/batch_size\n",
    "\n",
    "        elbo_sum += elbo.detach().item()\n",
    "\n",
    "    elbo_train = elbo_sum/len(train_loader)\n",
    "    return elbo_train"
   ]
  },
  {
   "cell_type": "markdown",
   "metadata": {},
   "source": [
    "##### Gumbel-Softmax gradient:"
   ]
  },
  {
   "cell_type": "markdown",
   "metadata": {},
   "source": [
    "\n",
    "$$\\nabla_\\phi \\mathbb{E}_{\\gamma} p_\\theta (x,z_{opt}) \\approx \\nabla_\\phi \\mathbb{E}_{\\gamma} p_\\theta (x,z_{softmax})$$\n",
    "where\n",
    "<h5>$$ z_{softmax} = \\frac {e^{(h_\\phi(x,z) + \\gamma(z))/\\tau}}{\\sum_{\\hat z \\in \\mathcal{Z}} e^{(h_\\phi(x,\\hat z)  + \\gamma(\\hat z))/\\tau}} $$</h5>\n",
    "\n",
    "Now the function $\\mathbb{E}_{\\gamma} p_\\theta (x,z_{softmax})$ is a continous function and we can simply use the chain rule (backprop) to compute the gradients.\n",
    "\n",
    "*Softmax* operation becomes computationally intractable when using high-dimensional structured latent spaces, because the Softmax normalization relies on a summation over all possible latent assignments. "
   ]
  },
  {
   "cell_type": "code",
   "execution_count": 9,
   "metadata": {},
   "outputs": [],
   "source": [
    "def gumbel_softmax(h_x, tau=1,hard=True):\n",
    "    \"\"\"Gumbel-Softmax reparametrization\n",
    "       args:\n",
    "           h_x: logits (encoder output)\n",
    "           tau: when tau->0 z is 1-hot\n",
    "           hard: force z to 1-hot vector.\n",
    "           If hard=true while training we forward argmax but backward wrt softmax\n",
    "       returns:\n",
    "           z: a discrete sample (1-hot)\n",
    "           z_relaxed: the softmax relaxtion\n",
    "           note: if hard=false then z=z_relaxed\"\"\"\n",
    "    gumbel_noise = utils.sample_gumbel(h_x,standard_gumbel=True)\n",
    "    y =h_x + gumbel_noise        \n",
    "    z_relaxed = F.softmax(y / tau,dim=1)\n",
    "\n",
    "    if hard:\n",
    "        k = z_relaxed.argmax(-1)\n",
    "        shape = h_x.size()\n",
    "        z_hard = torch.zeros_like(h_x).scatter_(-1, k.view(-1, 1), 1.0) \n",
    "        # trick for forward one-hot and backward wrt soft\n",
    "        z = z_hard - z_relaxed.detach() + z_relaxed \n",
    "    else:\n",
    "        z = z_relaxed\n",
    "    return z,z_relaxed\n",
    "\n",
    "def train_softmax(train_loader):\n",
    "    \"\"\" Trains for one epoch over train_loader\"\"\"\n",
    "    elbo_sum=0    \n",
    "    for i, (x, _) in enumerate(train_loader):\n",
    "        x = x.view(x.size(0), -1).round()\n",
    "        batch_size = x.size(0)\n",
    "\n",
    "        h_x = encoder_gsm(x)\n",
    "        z_opt,h_gamma = gumbel_softmax(h_x,hard=False)            \n",
    "        out = decoder_gsm(z_opt)\n",
    "        kl = utils.kl_multinomial(h_x)        \n",
    "        \n",
    "        optimizer_gsm.zero_grad()        \n",
    "        decoder_loss  = F.binary_cross_entropy_with_logits(out,x,reduction='none').sum(0).sum() \n",
    "        loss = decoder_loss+ kl\n",
    "        loss.backward()\n",
    "        optimizer_gsm.step()\n",
    "        elbo = loss/batch_size\n",
    "\n",
    "        elbo_sum += elbo.detach().item()\n",
    "\n",
    "    elbo_bce = elbo_sum/len(train_loader)    \n",
    "    return elbo_bce"
   ]
  },
  {
   "cell_type": "markdown",
   "metadata": {},
   "source": [
    "some text on here we are and what we want to show. Is evaluate here or utils? "
   ]
  },
  {
   "cell_type": "code",
   "execution_count": 10,
   "metadata": {},
   "outputs": [],
   "source": [
    "def evaluate(test_loader,estimator='gumbel-max'):\n",
    "    \"\"\"This function evaluates the estimator over test-set\n",
    "       args:\n",
    "           test_loader: mnist standard test split\n",
    "           estimator: 'gumbel-max', 'gumbel-softmax', 'unbiased'\n",
    "       returns: the average loss over test-set\"\"\"\n",
    "    if estimator=='gumbel-max':\n",
    "        encoder,decoder = encoder_direct,decoder_direct\n",
    "        sampling_func = gumbel_max\n",
    "    elif estimator=='gumbel-softmax':\n",
    "        encoder,decoder = encoder_gsm,decoder_gsm\n",
    "        sampling_func = gumbel_softmax\n",
    "    else:\n",
    "        encoder,decoder = encoder_unbiased,decoder_unbiased\n",
    "        sampling_func = sample_onehot\n",
    "        \n",
    "       \n",
    "    encoder.eval()\n",
    "    decoder.eval()\n",
    "    elbo_sum =0    \n",
    "    with torch.no_grad():\n",
    "        for x, _ in test_loader:        \n",
    "            x = x.view(x.size(0), -1).round()\n",
    "            bs = x.size(0)\n",
    "            h_x = encoder(x)\n",
    "            z_opt,_ = sampling_func(h_x)\n",
    "            out = decoder(z_opt)\n",
    "            \n",
    "            decoder_loss  = F.binary_cross_entropy_with_logits(out,x,reduction='none').sum()\n",
    "            kl = utils.kl_multinomial(h_x)\n",
    "            elbo_sum += ((decoder_loss+kl)/bs).detach().item()\n",
    "\n",
    "    encoder.train()\n",
    "    decoder.train()\n",
    "\n",
    "    elbo_test = elbo_sum/len(test_loader)\n",
    "    return elbo_test"
   ]
  },
  {
   "cell_type": "markdown",
   "metadata": {},
   "source": [
    "#### Training procedure:"
   ]
  },
  {
   "cell_type": "code",
   "execution_count": 11,
   "metadata": {},
   "outputs": [
    {
     "name": "stdout",
     "output_type": "stream",
     "text": [
      "direct: 207.43,   gsm:  218.99,  unbiased: 218.53\n",
      "direct: 205.70,   gsm:  213.53,  unbiased: 212.02\n",
      "direct: 203.34,   gsm:  208.45,  unbiased: 207.99\n",
      "direct: 202.73,   gsm:  208.54,  unbiased: 209.02\n",
      "direct: 204.58,   gsm:  210.60,  unbiased: 207.27\n",
      "direct: 201.69,   gsm:  210.73,  unbiased: 207.35\n",
      "direct: 200.91,   gsm:  209.83,  unbiased: 208.67\n",
      "direct: 201.04,   gsm:  212.64,  unbiased: 207.30\n",
      "direct: 201.87,   gsm:  213.92,  unbiased: 207.77\n",
      "direct: 201.00,   gsm:  214.47,  unbiased: 225.01\n",
      "direct: 200.53,   gsm:  216.46,  unbiased: 207.60\n",
      "direct: 200.24,   gsm:  216.30,  unbiased: 206.99\n",
      "direct: 200.39,   gsm:  219.62,  unbiased: 206.99\n",
      "direct: 200.83,   gsm:  219.44,  unbiased: 208.27\n",
      "direct: 200.03,   gsm:  219.85,  unbiased: 207.68\n",
      "direct: 200.42,   gsm:  220.98,  unbiased: 207.35\n",
      "direct: 200.13,   gsm:  221.63,  unbiased: 206.84\n",
      "direct: 200.33,   gsm:  222.16,  unbiased: 208.44\n",
      "direct: 200.41,   gsm:  223.93,  unbiased: 207.22\n",
      "direct: 199.97,   gsm:  226.15,  unbiased: 207.09\n",
      "direct: 199.78,   gsm:  227.26,  unbiased: 207.90\n",
      "direct: 200.24,   gsm:  224.04,  unbiased: 207.60\n",
      "direct: 200.06,   gsm:  226.98,  unbiased: 207.86\n",
      "direct: 200.01,   gsm:  226.50,  unbiased: 207.23\n",
      "direct: 200.05,   gsm:  226.91,  unbiased: 207.04\n",
      "direct: 199.63,   gsm:  229.14,  unbiased: 206.72\n",
      "direct: 199.87,   gsm:  233.26,  unbiased: 206.86\n",
      "direct: 200.23,   gsm:  235.55,  unbiased: 206.65\n",
      "direct: 199.75,   gsm:  232.45,  unbiased: 207.66\n",
      "direct: 199.76,   gsm:  231.30,  unbiased: 206.63\n"
     ]
    }
   ],
   "source": [
    "gsm,direct,unbiased = [],[],[]\n",
    "for epoch in range(30):\n",
    "    tr_unb = train_unbiased(train_loader)\n",
    "    tr_gsm = train_softmax(train_loader)      \n",
    "    tr_dr = train_direct_max(train_loader)\n",
    "\n",
    "    te_unb = evaluate(test_loader,'unbiased')\n",
    "    te_gsm = evaluate(test_loader,'gumbel-softmax')       \n",
    "    te_dr = evaluate(test_loader,'gumbel-max')\n",
    "    \n",
    "    \n",
    "    \n",
    "    gsm.append((tr_gsm,te_gsm)) \n",
    "    direct.append((tr_dr,te_dr))\n",
    "    unbiased.append((tr_unb,te_unb)) \n",
    "    \n",
    "    print('direct: {:.2f},   gsm:  {:.2f},  unbiased: {:.2f}'.format(te_dr,te_gsm,te_unb))\n",
    "\n",
    "tr_gsm,te_gsm = zip(*gsm)\n",
    "tr_dr,te_dr = zip(*direct)\n",
    "tr_unb,te_unb = zip(*unbiased)"
   ]
  },
  {
   "cell_type": "code",
   "execution_count": 12,
   "metadata": {},
   "outputs": [
    {
     "data": {
      "image/png": "[encoded data removed]",
      "text/plain": [
       "<Figure size 432x288 with 1 Axes>"
      ]
     },
     "metadata": {
      "needs_background": "light"
     },
     "output_type": "display_data"
    }
   ],
   "source": [
    "\n",
    "utils.show_and_save_plots([[(tr_dr,te_dr),'Direct'],\n",
    "                           [(tr_gsm,te_gsm),'Gumbel-Softmax'],\n",
    "                           [(tr_unb,te_unb),'Unbiased']])"
   ]
  },
  {
   "cell_type": "markdown",
   "metadata": {},
   "source": [
    "### Inference"
   ]
  },
  {
   "cell_type": "code",
   "execution_count": 13,
   "metadata": {},
   "outputs": [
    {
     "name": "stderr",
     "output_type": "stream",
     "text": [
      "/Users/guy_l/.virtualenvs/pytorch3/lib/python3.7/site-packages/torch/nn/functional.py:1351: UserWarning: nn.functional.sigmoid is deprecated. Use torch.sigmoid instead.\n",
      "  warnings.warn(\"nn.functional.sigmoid is deprecated. Use torch.sigmoid instead.\")\n"
     ]
    },
    {
     "data": {
      "image/png": "[encoded data removed]",
      "text/plain": [
       "<Figure size 432x288 with 1 Axes>"
      ]
     },
     "metadata": {
      "needs_background": "light"
     },
     "output_type": "display_data"
    }
   ],
   "source": [
    "import torchvision\n",
    "\n",
    "onehots = torch.eye(K)\n",
    "\n",
    "out_unbiased = F.sigmoid(decoder_unbiased(onehots)).view(-1,1,28,28)\n",
    "out_direct = F.sigmoid(decoder_direct(onehots)).view(-1,1,28,28)\n",
    "out_gsm = F.sigmoid(decoder_gsm(onehots)).view(-1,1,28,28)\n",
    "\n",
    "out = torch.cat((out_unbiased,out_direct,out_gsm))\n",
    "\n",
    "out=torchvision.utils.make_grid(out,nrow=K)\n",
    "utils.show(out)"
   ]
  },
  {
   "cell_type": "markdown",
   "metadata": {},
   "source": [
    "\n",
    "                                                  Decoder evaluations\n",
    "\n",
    "|---|   unbiased   | direct  | GSM |\n",
    "|:---:|:---:|:---:|:---:|\n",
    "|forward|  $k$ |  $k+1$  |  $1$  |\n",
    "|backward|  $k$  |  $1$  |  $1$  |\n",
    "    \n",
    "The table shows the number of the decoder evaluations (per 1 sample). For cells that are valued at >1, the evaluations are computed in batches. For the forward/direct cell, $1$ is for the forward pass and $k$ is for the decoder evaluations that needed in order to compute the encoder gradients. These $k$ evaluations are offline in the sense that there is no need to store their gradients for backward pass.\n",
    "\n",
    "\n",
    "\n",
    "                                                  Encoder operations\n",
    "|---|unbiased | direct | GSM |\n",
    "|:---:|:---:|:---:|:---:|\n",
    "|forward|  $k$ (*Softmax* operation)  |  $k$ (*max* operation) |  $k$ (*Softmax* operation)  |\n",
    "|backward|  $k$ (chain rule) |  $2$ (opt, direct) |  $k$ (chain rule)|\n",
    "\n",
    "In this table we present the number of operations requried to compute $h(x)$. In case that the encoder is unstructured the *max* and *Softmax* operations have the same complexity, but when the encoder is structured the number of different assignments can grow exponentialy, and the *max* operation can be computed with much better complexity than *Softmax*.\n",
    "\n",
    "\n",
    "\n"
   ]
  },
  {
   "cell_type": "markdown",
   "metadata": {},
   "source": [
    "# Structured latent space\n",
    "\n",
    "So far we have discussed the case of a single discrete latent variable. In such case both max and argmax operations have roughly the same running time complexity. \n",
    "\n",
    "However, when $z$ is structured, solving a Softmax operation can be very hard and sometimes impossible because of the exponential assignments in the partition function $\\sum_{\\hat z \\in \\mathcal{Z}} e^{h(x,\\hat z)}$. \n",
    "\n",
    "We were working on a structure of the form:\n",
    "$$ h_\\phi(x,z) = \\sum_{i=1}^n h_i(x,z_i;\\phi) + \\sum_{i > j} h_{i,j}(x,z_i,z_j;\\phi)$$"
   ]
  },
  {
   "cell_type": "markdown",
   "metadata": {},
   "source": [
    "In order to compute Softmax operation of the energy function above, one should compute all possible assignments ($2^n$).\n",
    "Instead, solving $\\arg\\max$ problems can be obtained by ILP solvers such as *CPLEX* or *max-flow*.\n",
    "\n",
    "*max-flow* can deal only with positive potentials $h_{i,j}(x,z_i,z_j)$\n",
    "*CPLEX* can solve any (positive and negative) $h_{i,j}(x,z_i,z_j)$ and by that the encoder captures positive and negative interactions between variables. However, it comes with the price of much longer wall-clock time.\n",
    "\n",
    "By two such maximizations we can  get $z_{opt} \\text{ and } z_{direct}$ and by that to estimate the encoder gradients with reasonable time complexity."
   ]
  },
  {
   "cell_type": "markdown",
   "metadata": {},
   "source": [
    "#### structured encoder\n",
    "The encoder ($h_\\phi(x,z)$) produces $2\\cdot n + {n \\choose2}$ units. \n",
    "\n",
    "$2\\cdot n$ : $n$ binary variables as one-hot representation ($h_i$).\n",
    "\n",
    "${n \\choose2}$: interactions between pairs of variables ($h_{ij}$).\n",
    "\n",
    "In order to solve the maximization problem via maxflow algorithm we need to force $h_{ij} \\geq 0$, we do it by the softplus operation. \n"
   ]
  },
  {
   "cell_type": "code",
   "execution_count": 19,
   "metadata": {},
   "outputs": [],
   "source": [
    "class Structrued_Encoder(nn.Module):\n",
    "    \n",
    "    def __init__(self, x_dim=784, N=6,solver='maxflow'):\n",
    "        super(Structrued_Encoder, self).__init__()\n",
    "        self.all_pairs = utils.ncr(N,2)\n",
    "        self.encoder = nn.Sequential(\n",
    "            nn.Linear(x_dim,300),\n",
    "            nn.ReLU(),\n",
    "            nn.Linear(300,2*N + self.all_pairs))\n",
    "        self.N = N\n",
    "        self.solver=solver\n",
    "        \n",
    "    def forward(self, x):\n",
    "        h_x = self.encoder(x)\n",
    "        h_i, h_ij = h_x.split([2*self.N,self.all_pairs],dim=1)\n",
    "        if self.solver=='maxflow':\n",
    "            h_ij = F.softplus(h_ij) # force h_ij >= 0\n",
    "        z,h_gamma = self.gumbel_perturbation(h_i,h_ij)\n",
    "        return z,h_gamma\n",
    "\n",
    "    \n",
    "    def gumbel_perturbation(self,h_i,h_ij):\n",
    "        \"\"\" Pertubes N binary variables and solves the argmax of the pairwise energy function.\n",
    "            args:\n",
    "                h_i: N potentials\n",
    "                h_ij: N choose 2 potentials\n",
    "            returns:\n",
    "                z: N binary 1-hot variables\n",
    "                h: h_i and h_ij potentials\n",
    "                k: N binary variables (1 or 0). \"\"\"\n",
    "        h_i = h_i.contiguous().view(-1,2)\n",
    "\n",
    "        gumbel_noise = utils.sample_gumbel(h_i,standard_gumbel=True)\n",
    "        h_i_gamma = h_i + gumbel_noise\n",
    "        h =list(zip(h_i_gamma.view(-1,self.N,2),h_ij))\n",
    "        if self.solver=='maxflow':\n",
    "            argmax = utils.argmax_maxflow(h)\n",
    "        elif self.solver=='cplex':\n",
    "            argmax = utils.argmax_cplex(h)\n",
    "        else: # none\n",
    "            argmax = h_i_gamma.argmax(-1)\n",
    "            \n",
    "        #z_opt = F.one_hot(argmax, num_classes=2).float()   \n",
    "\n",
    "        return argmax, h\n",
    "\n"
   ]
  },
  {
   "cell_type": "markdown",
   "metadata": {},
   "source": [
    "However, $z_{direct}$ requires enumerating over $f_\\theta(x,z_i)$ which is also exponential. Therefore, we search for $z_{direct}$ in a sub-space. Here we have $n$ binary variables and the way we search for $z_{direct}$ is to start from the realization of $z_{opt}$ and to change one variable at a time while the rest are fixed."
   ]
  },
  {
   "cell_type": "code",
   "execution_count": 20,
   "metadata": {},
   "outputs": [],
   "source": [
    "def compute_structured_encoder_gradients(z_opt,h_gamma,ground_truth,models,epsilon=1.0):\n",
    "    h_x_g,z_opt = h_x_g\n",
    "    h_i,h_ij = zip(*h_gamma)    \n",
    "    h_i = torch.cat(h_i)\n",
    "    \"\"\"\n",
    "    z: N one-hot vectors of size 2  (batch x N, 2)\n",
    "    \n",
    "    z_opt: binary vector of size N (batch, N)\n",
    "    h_g: h_i + gumbel (batch x N, 2)\n",
    "    h_ij: h_ij  (batch , N choose 2)\n",
    "    \n",
    "    \"\"\"\n",
    "    encoder,decoder=models\n",
    "    N = encoder.N\n",
    "    K = 2\n",
    "    z_hat = utils.z_hat(z_opt,h_i,N,K)\n",
    "    gt_batch = ground_truth.repeat_interleave(N*K,0)\n",
    "    f_tilda = decoder(z_hat)\n",
    "    with torch.no_grad():\n",
    "        f_tilda = F.binary_cross_entropy_with_logits(f_tilda,gt_batch,reduction='none').sum(-1)\n",
    "    \n",
    "    grad_h_i,grad_h_ij = utils.h_i_and_h_ij_grads(h_i,h_ij,f_tilda,z_opt,epsilon,encoder.solver)\n",
    "    \n",
    "    gradients = torch.cat((grad_h_i, grad_h_ij),-1)\n",
    "    decoder.train()\n",
    "    gradients = gradients*(1.0/epsilon)\n",
    "    return torch.sum(gradients)"
   ]
  },
  {
   "cell_type": "code",
   "execution_count": 21,
   "metadata": {},
   "outputs": [],
   "source": [
    "def train_structured(train_loader,models,optimizers):\n",
    "    encoder,decoder=models\n",
    "    encoder_opt,decoder_opt=optimizers\n",
    "    kl_sum, elbo_sum = 0,0\n",
    "    for i, (x, _) in enumerate(train_loader):\n",
    "        batch_size = x.size(0)\n",
    "        x = x.view(batch_size, -1)\n",
    "\n",
    "        \n",
    "\n",
    "        # forward\n",
    "        z,h_gamma = encoder(x)\n",
    "        N=encoder.N\n",
    "\n",
    "        out = decoder(z.view(-1,N*2)) \n",
    "        # backward\n",
    "        encoder_loss = compute_structured_encoder_gradients(z,h_gamma,x,models)\n",
    "        decoder_loss  = F.binary_cross_entropy_with_logits(out,x,reduction='none').sum()\n",
    "        \n",
    "        h_i,h_ij = zip(*h_gamma)\n",
    "        kl = utils.kl_multinomial(torch.cat(h_i).view(-1,2))\n",
    "        #kl = utils.kl_multinomial(h_x[:,:N].contiguous().view(-1,N))\n",
    "\n",
    "        encoder_opt.zero_grad()\n",
    "        decoder_opt.zero_grad()\n",
    "\n",
    "        decoder_loss.backward()\n",
    "        encoder_loss.backward()\n",
    "\n",
    "        decoder_opt.step()\n",
    "        encoder_opt.step()\n",
    "        elbo = (decoder_loss+kl)/batch_size\n",
    "        elbo_sum += elbo.detach().item()\n",
    "\n",
    "    elbo = elbo_sum/len(train_loader)\n",
    "\n",
    "    return elbo"
   ]
  },
  {
   "cell_type": "code",
   "execution_count": 22,
   "metadata": {},
   "outputs": [],
   "source": [
    "def evaluate_structured(test_loader,models):\n",
    "    encoder,decoder=models\n",
    "    encoder.eval()\n",
    "    decoder.eval()\n",
    "    elbo_sum =0    \n",
    "    with torch.no_grad():\n",
    "        for x, _ in test_loader:        \n",
    "            x = x.view(x.size(0), -1)\n",
    "\n",
    "            bs = x.size(0)\n",
    "\n",
    "            # forward\n",
    "            z,h_gamma = encoder(x)\n",
    "            N=encoder.N\n",
    "\n",
    "            out = decoder(z.view(-1,N*2)) \n",
    "            # backward\n",
    "            encoder_loss = compute_structured_encoder_gradients(z,h_gamma,x,models)\n",
    "\n",
    "            decoder_loss  = F.binary_cross_entropy_with_logits(out,x,reduction='none').sum()\n",
    "            \n",
    "            kl = utils.kl_multinomial(torch.cat(h_i).view(-1,2))\n",
    "            #kl = utils.kl_multinomial(h_x[:,:N].contiguous().view(-1,N))\n",
    "\n",
    "            elbo_sum += ((decoder_loss+kl)/bs).detach().item()\n",
    "\n",
    "    encoder.train()\n",
    "    decoder.train()\n",
    "\n",
    "    elbo_test = elbo_sum/len(test_loader)\n",
    "    return elbo_test"
   ]
  },
  {
   "cell_type": "code",
   "execution_count": 23,
   "metadata": {},
   "outputs": [
    {
     "ename": "NameError",
     "evalue": "name 'k' is not defined",
     "output_type": "error",
     "traceback": [
      "\u001b[0;31m---------------------------------------------------------------------------\u001b[0m",
      "\u001b[0;31mNameError\u001b[0m                                 Traceback (most recent call last)",
      "\u001b[0;32m<ipython-input-23-ce5612ef304d>\u001b[0m in \u001b[0;36m<module>\u001b[0;34m\u001b[0m\n\u001b[1;32m     21\u001b[0m \u001b[0mstrc_elbo\u001b[0m\u001b[0;34m,\u001b[0m\u001b[0munstrc_elbo\u001b[0m\u001b[0;34m=\u001b[0m\u001b[0;34m[\u001b[0m\u001b[0;34m]\u001b[0m\u001b[0;34m,\u001b[0m\u001b[0;34m[\u001b[0m\u001b[0;34m]\u001b[0m\u001b[0;34m\u001b[0m\u001b[0m\n\u001b[1;32m     22\u001b[0m \u001b[0;32mfor\u001b[0m \u001b[0mt\u001b[0m \u001b[0;32min\u001b[0m \u001b[0mrange\u001b[0m\u001b[0;34m(\u001b[0m\u001b[0;36m30\u001b[0m\u001b[0;34m)\u001b[0m\u001b[0;34m:\u001b[0m\u001b[0;34m\u001b[0m\u001b[0m\n\u001b[0;32m---> 23\u001b[0;31m     \u001b[0mtrain_strc\u001b[0m\u001b[0;34m=\u001b[0m\u001b[0mtrain_structured\u001b[0m\u001b[0;34m(\u001b[0m\u001b[0mtrain_loader\u001b[0m\u001b[0;34m,\u001b[0m\u001b[0mmodels_strc\u001b[0m\u001b[0;34m,\u001b[0m\u001b[0mopt_strc\u001b[0m\u001b[0;34m)\u001b[0m\u001b[0;34m\u001b[0m\u001b[0m\n\u001b[0m\u001b[1;32m     24\u001b[0m     \u001b[0meval_strc\u001b[0m \u001b[0;34m=\u001b[0m\u001b[0mevaluate_structured\u001b[0m\u001b[0;34m(\u001b[0m\u001b[0mtest_loader\u001b[0m\u001b[0;34m,\u001b[0m\u001b[0mmodels_strc\u001b[0m\u001b[0;34m)\u001b[0m\u001b[0;34m\u001b[0m\u001b[0m\n\u001b[1;32m     25\u001b[0m     \u001b[0mstrc_elbo\u001b[0m\u001b[0;34m.\u001b[0m\u001b[0mappend\u001b[0m\u001b[0;34m(\u001b[0m\u001b[0;34m(\u001b[0m\u001b[0mtrain_strc\u001b[0m\u001b[0;34m,\u001b[0m\u001b[0meval_strc\u001b[0m\u001b[0;34m)\u001b[0m\u001b[0;34m)\u001b[0m\u001b[0;34m\u001b[0m\u001b[0m\n",
      "\u001b[0;32m<ipython-input-21-7cd048fa9d21>\u001b[0m in \u001b[0;36mtrain_structured\u001b[0;34m(train_loader, models, optimizers)\u001b[0m\n\u001b[1;32m      9\u001b[0m \u001b[0;34m\u001b[0m\u001b[0m\n\u001b[1;32m     10\u001b[0m         \u001b[0;31m# forward\u001b[0m\u001b[0;34m\u001b[0m\u001b[0;34m\u001b[0m\u001b[0m\n\u001b[0;32m---> 11\u001b[0;31m         \u001b[0mz\u001b[0m\u001b[0;34m,\u001b[0m\u001b[0mh_x_g\u001b[0m\u001b[0;34m,\u001b[0m\u001b[0mh_x\u001b[0m \u001b[0;34m=\u001b[0m \u001b[0mencoder\u001b[0m\u001b[0;34m(\u001b[0m\u001b[0mx\u001b[0m\u001b[0;34m)\u001b[0m\u001b[0;34m\u001b[0m\u001b[0m\n\u001b[0m\u001b[1;32m     12\u001b[0m         \u001b[0mN\u001b[0m\u001b[0;34m=\u001b[0m\u001b[0mencoder\u001b[0m\u001b[0;34m.\u001b[0m\u001b[0mN\u001b[0m\u001b[0;34m\u001b[0m\u001b[0m\n\u001b[1;32m     13\u001b[0m \u001b[0;34m\u001b[0m\u001b[0m\n",
      "\u001b[0;32m~/.virtualenvs/pytorch3/lib/python3.7/site-packages/torch/nn/modules/module.py\u001b[0m in \u001b[0;36m__call__\u001b[0;34m(self, *input, **kwargs)\u001b[0m\n\u001b[1;32m    539\u001b[0m             \u001b[0mresult\u001b[0m \u001b[0;34m=\u001b[0m \u001b[0mself\u001b[0m\u001b[0;34m.\u001b[0m\u001b[0m_slow_forward\u001b[0m\u001b[0;34m(\u001b[0m\u001b[0;34m*\u001b[0m\u001b[0minput\u001b[0m\u001b[0;34m,\u001b[0m \u001b[0;34m**\u001b[0m\u001b[0mkwargs\u001b[0m\u001b[0;34m)\u001b[0m\u001b[0;34m\u001b[0m\u001b[0m\n\u001b[1;32m    540\u001b[0m         \u001b[0;32melse\u001b[0m\u001b[0;34m:\u001b[0m\u001b[0;34m\u001b[0m\u001b[0m\n\u001b[0;32m--> 541\u001b[0;31m             \u001b[0mresult\u001b[0m \u001b[0;34m=\u001b[0m \u001b[0mself\u001b[0m\u001b[0;34m.\u001b[0m\u001b[0mforward\u001b[0m\u001b[0;34m(\u001b[0m\u001b[0;34m*\u001b[0m\u001b[0minput\u001b[0m\u001b[0;34m,\u001b[0m \u001b[0;34m**\u001b[0m\u001b[0mkwargs\u001b[0m\u001b[0;34m)\u001b[0m\u001b[0;34m\u001b[0m\u001b[0m\n\u001b[0m\u001b[1;32m    542\u001b[0m         \u001b[0;32mfor\u001b[0m \u001b[0mhook\u001b[0m \u001b[0;32min\u001b[0m \u001b[0mself\u001b[0m\u001b[0;34m.\u001b[0m\u001b[0m_forward_hooks\u001b[0m\u001b[0;34m.\u001b[0m\u001b[0mvalues\u001b[0m\u001b[0;34m(\u001b[0m\u001b[0;34m)\u001b[0m\u001b[0;34m:\u001b[0m\u001b[0;34m\u001b[0m\u001b[0m\n\u001b[1;32m    543\u001b[0m             \u001b[0mhook_result\u001b[0m \u001b[0;34m=\u001b[0m \u001b[0mhook\u001b[0m\u001b[0;34m(\u001b[0m\u001b[0mself\u001b[0m\u001b[0;34m,\u001b[0m \u001b[0minput\u001b[0m\u001b[0;34m,\u001b[0m \u001b[0mresult\u001b[0m\u001b[0;34m)\u001b[0m\u001b[0;34m\u001b[0m\u001b[0m\n",
      "\u001b[0;32m<ipython-input-19-fe855c344f40>\u001b[0m in \u001b[0;36mforward\u001b[0;34m(self, x)\u001b[0m\n\u001b[1;32m     16\u001b[0m         \u001b[0;32mif\u001b[0m \u001b[0mself\u001b[0m\u001b[0;34m.\u001b[0m\u001b[0msolver\u001b[0m\u001b[0;34m==\u001b[0m\u001b[0;34m'maxflow'\u001b[0m\u001b[0;34m:\u001b[0m\u001b[0;34m\u001b[0m\u001b[0m\n\u001b[1;32m     17\u001b[0m             \u001b[0mh_ij\u001b[0m \u001b[0;34m=\u001b[0m \u001b[0mF\u001b[0m\u001b[0;34m.\u001b[0m\u001b[0msoftplus\u001b[0m\u001b[0;34m(\u001b[0m\u001b[0mh_ij\u001b[0m\u001b[0;34m)\u001b[0m \u001b[0;31m# force h_ij >= 0\u001b[0m\u001b[0;34m\u001b[0m\u001b[0m\n\u001b[0;32m---> 18\u001b[0;31m         \u001b[0mz\u001b[0m\u001b[0;34m,\u001b[0m\u001b[0mh_g\u001b[0m \u001b[0;34m=\u001b[0m \u001b[0mself\u001b[0m\u001b[0;34m.\u001b[0m\u001b[0mgumbel_perturbation\u001b[0m\u001b[0;34m(\u001b[0m\u001b[0mh_i\u001b[0m\u001b[0;34m,\u001b[0m\u001b[0mh_ij\u001b[0m\u001b[0;34m)\u001b[0m\u001b[0;34m\u001b[0m\u001b[0m\n\u001b[0m\u001b[1;32m     19\u001b[0m         \u001b[0;32mreturn\u001b[0m \u001b[0mz\u001b[0m\u001b[0;34m,\u001b[0m\u001b[0mh_g\u001b[0m\u001b[0;34m,\u001b[0m\u001b[0mh_x\u001b[0m\u001b[0;34m\u001b[0m\u001b[0m\n\u001b[1;32m     20\u001b[0m \u001b[0;34m\u001b[0m\u001b[0m\n",
      "\u001b[0;32m<ipython-input-19-fe855c344f40>\u001b[0m in \u001b[0;36mgumbel_perturbation\u001b[0;34m(self, h_i, h_ij)\u001b[0m\n\u001b[1;32m     44\u001b[0m         \u001b[0;31m#z_opt = torch.FloatTensor(*h_x.size()).zero_().scatter_(-1, k.view(-1, 1), 1.0)\u001b[0m\u001b[0;34m\u001b[0m\u001b[0;34m\u001b[0m\u001b[0m\n\u001b[1;32m     45\u001b[0m \u001b[0;34m\u001b[0m\u001b[0m\n\u001b[0;32m---> 46\u001b[0;31m         \u001b[0;32mreturn\u001b[0m \u001b[0mz_opt\u001b[0m\u001b[0;34m,\u001b[0m\u001b[0;34m(\u001b[0m\u001b[0mh\u001b[0m\u001b[0;34m,\u001b[0m\u001b[0mk\u001b[0m\u001b[0;34m)\u001b[0m\u001b[0;34m\u001b[0m\u001b[0m\n\u001b[0m\u001b[1;32m     47\u001b[0m \u001b[0;34m\u001b[0m\u001b[0m\n",
      "\u001b[0;31mNameError\u001b[0m: name 'k' is not defined"
     ]
    }
   ],
   "source": [
    "\n",
    "n=15\n",
    "strc_encoder = Structrued_Encoder(N=n,solver='maxflow')\n",
    "strc_decoder = Decoder(x_dim=x_dim,K=2*n)\n",
    "\n",
    "opt_enc_strc = torch.optim.Adam(strc_encoder.parameters(), lr=0.001)\n",
    "opt_dec_strc = torch.optim.Adam(strc_decoder.parameters(), lr=0.001)\n",
    "\n",
    "models_strc = strc_encoder,strc_decoder\n",
    "opt_strc = opt_enc_strc,opt_dec_strc\n",
    "\n",
    "unstrc_encoder = Structrued_Encoder(N=n,solver='none')\n",
    "unstrc_decoder = Decoder(x_dim=x_dim,K=2*n)\n",
    "\n",
    "opt_enc_unstrc = torch.optim.Adam(unstrc_encoder.parameters(), lr=0.001)\n",
    "opt_dec_unstrc = torch.optim.Adam(unstrc_decoder.parameters(), lr=0.001)\n",
    "\n",
    "models_unstrc = unstrc_encoder,unstrc_decoder\n",
    "opt_unstrc = opt_enc_unstrc,opt_dec_unstrc\n",
    "\n",
    "strc_elbo,unstrc_elbo=[],[]\n",
    "for t in range(30):\n",
    "    train_strc=train_structured(train_loader,models_strc,opt_strc)\n",
    "    eval_strc =evaluate_structured(test_loader,models_strc)\n",
    "    strc_elbo.append((train_strc,eval_strc))\n",
    "\n",
    "    train_unstrc=train_structured(train_loader,models_unstrc,opt_unstrc)\n",
    "    eval_unstrc =evaluate_structured(test_loader,models_unstrc)\n",
    "    unstrc_elbo.append((train_unstrc,eval_unstrc))\n",
    "    print ('unstructure: {:.2f}, structure: {:.2f}'.format(eval_unstrc,eval_strc))\n"
   ]
  },
  {
   "cell_type": "code",
   "execution_count": null,
   "metadata": {},
   "outputs": [],
   "source": [
    "tr_str,te_str=zip(*strc_elbo)\n",
    "tr_unstr,te_unstr=zip(*unstrc_elbo)\n",
    "utils.show_and_save_plots([[(tr_unstr,te_unstr),'Direct unstructured'],\n",
    "                           [(tr_str,te_str),'Direct structured']])"
   ]
  },
  {
   "cell_type": "markdown",
   "metadata": {},
   "source": [
    "\n",
    "\n",
    "                                                Decoder evaluations\n",
    "\n",
    "|---|   unbiased   | direct  | GSM |\n",
    "|:---:|:---:|:---:|:---:|\n",
    "|forward|  $2^n$ |  $n+1$ (input size: $n + {n\\choose 2}$) |  $1$ (input size: $2^n$)  |\n",
    "|backward|  $2^n$  |  $ 1 $  | $1$ (input size: $2^n$)  |\n",
    "    \n",
    "*Gumbel-Softmax* is an end-to-end approach which is a major advantage, however, in order to compute *Softmax* one should evaluate $h_\\phi(x,z)$ for all $z$ realizations which makes it unfeasable (for about $n \\ge 15$).\n",
    "\n",
    "In *Direct-Gumbel-Max* we look for the *$\\arg\\max$* that can be found more efficiently than *Softmax*. However, we need to search for $z_{direct}$ in an exponential space. Instead, we search in a sub-space. In forward/direct cell, $1$ is for the forward pass and $n$ for the forward pass when computing $z_{direct}$. These $n$ evaluations are offline in a sense that there is no need to store their gradients for backward pass.\n",
    "\n",
    "\n",
    "                                                Encoder operations\n",
    "\n",
    "|---|   unbiased   | direct  | GSM |\n",
    "|:---:|:---:|:---:|:---:|\n",
    "|forward|  $2^n$ (*softmax* operation)  |  ILP solver complexity  |  $2^n$ (*softmax* operation)  |\n",
    "|backward|  $2^n$ (chain rule) |  $2 \\times$ solver complexity (opt, direct) |  $2^n$ (chain rule)|\n"
   ]
  },
  {
   "cell_type": "markdown",
   "metadata": {},
   "source": [
    "# References\n",
    "\n",
    "[1] Diederik P Kingma, Max Welling. “Auto-Encoding Variational Bayes.” ICLR, 2014.\n",
    "\n",
    "[2] Chris J. Maddison, Andriy Mnih, and Yee Whye Teh. “The Concrete Distribution: a Continuous Relaxation of Discrete Random Variables.” ICLR, 2017.\n",
    "\n",
    "[3] Eric Jang, Shixiang Gu and Ben Poole. “Categorical Reparameterization by Gumbel-Softmax.” ICLR, 2017.\n",
    "\n",
    "[4] D.McAllester, T. Hazan, and J. Keshet. \"Direct loss minimization for structured prediction.\" NIPS, 2010.\n",
    "\n",
    "[5] Y. Song, A. G. Schwing, R. Zemel, and R. Urtasun. \"Training Deep Neural Networks via DirectLoss Minimization.\" ICML, 2016.\n",
    "\n",
    "[6] Danilo Jimenez Rezende, Shakir Mohamed, and Daan Wierstra. \"Stochastic backpropagationand approximate inference in deep generative models.\" ICML, 2014.\n",
    "\n",
    "[7] Jordan, M.I. and Ghahramani, Z. and Jaakkola, T.S. and Saul, L.K. \"An introduction to variational methods for graphical models.\" \n",
    "\n"
   ]
  },
  {
   "cell_type": "code",
   "execution_count": 26,
   "metadata": {},
   "outputs": [
    {
     "data": {
      "text/plain": [
       "[(1, 2, 3), (5, 6, 7)]"
      ]
     },
     "execution_count": 26,
     "metadata": {},
     "output_type": "execute_result"
    }
   ],
   "source": [
    "a = [1,2,3]\n",
    "b = [5,6,7]\n",
    "\n",
    "c= list(zip(a,b))\n",
    "list(zip(*c))"
   ]
  },
  {
   "cell_type": "code",
   "execution_count": null,
   "metadata": {},
   "outputs": [],
   "source": []
  }
 ],
 "metadata": {
  "kernelspec": {
   "display_name": "Python 3",
   "language": "python",
   "name": "python3"
  },
  "language_info": {
   "codemirror_mode": {
    "name": "ipython",
    "version": 3
   },
   "file_extension": ".py",
   "mimetype": "text/x-python",
   "name": "python",
   "nbconvert_exporter": "python",
   "pygments_lexer": "ipython3",
   "version": "3.7.0"
  }
 },
 "nbformat": 4,
 "nbformat_minor": 2
}
